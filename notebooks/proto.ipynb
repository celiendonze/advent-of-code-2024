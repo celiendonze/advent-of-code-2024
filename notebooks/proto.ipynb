{
 "cells": [
  {
   "cell_type": "code",
   "execution_count": 2,
   "metadata": {},
   "outputs": [],
   "source": [
    "import numpy as np"
   ]
  },
  {
   "cell_type": "code",
   "execution_count": 5,
   "metadata": {},
   "outputs": [],
   "source": [
    "def is_problem_safe(numbers: np.ndarray) -> bool:\n",
    "    diff = np.diff(numbers)\n",
    "    return all(diff > 0) and all(diff <= 3) or all(diff < 0) and all(diff >= -3)"
   ]
  },
  {
   "cell_type": "code",
   "execution_count": 11,
   "metadata": {},
   "outputs": [
    {
     "name": "stdout",
     "output_type": "stream",
     "text": [
      "[3 2 4 5 6 7] False\n",
      "[1 2 4 5 6 7] True\n",
      "[1 3 4 5 6 7] True\n",
      "[1 3 2 5 6 7] False\n",
      "[1 3 2 4 6 7] False\n",
      "[1 3 2 4 5 7] False\n",
      "[1 3 2 4 5 6] False\n"
     ]
    }
   ],
   "source": [
    "a = np.array(\n",
    "    [\n",
    "        1,\n",
    "        3,\n",
    "        2,\n",
    "        4,\n",
    "        5,\n",
    "        6,\n",
    "        7,\n",
    "    ]\n",
    ")\n",
    "for i in range(len(a)):\n",
    "    small_a = np.delete(a, i)\n",
    "\n",
    "    print(small_a, is_problem_safe(small_a))"
   ]
  }
 ],
 "metadata": {
  "kernelspec": {
   "display_name": ".venv",
   "language": "python",
   "name": "python3"
  },
  "language_info": {
   "codemirror_mode": {
    "name": "ipython",
    "version": 3
   },
   "file_extension": ".py",
   "mimetype": "text/x-python",
   "name": "python",
   "nbconvert_exporter": "python",
   "pygments_lexer": "ipython3",
   "version": "3.12.6"
  }
 },
 "nbformat": 4,
 "nbformat_minor": 2
}
