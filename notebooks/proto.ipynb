{
 "cells": [
  {
   "cell_type": "code",
   "execution_count": 1,
   "metadata": {},
   "outputs": [],
   "source": [
    "import numpy as np"
   ]
  },
  {
   "cell_type": "code",
   "execution_count": 2,
   "metadata": {},
   "outputs": [],
   "source": [
    "def is_problem_safe(numbers: np.ndarray) -> bool:\n",
    "    diff = np.diff(numbers)\n",
    "    return all(diff > 0) and all(diff <= 3) or all(diff < 0) and all(diff >= -3)"
   ]
  },
  {
   "cell_type": "code",
   "execution_count": 3,
   "metadata": {},
   "outputs": [
    {
     "name": "stdout",
     "output_type": "stream",
     "text": [
      "[3 2 4 5 6 7] False\n",
      "[1 2 4 5 6 7] True\n",
      "[1 3 4 5 6 7] True\n",
      "[1 3 2 5 6 7] False\n",
      "[1 3 2 4 6 7] False\n",
      "[1 3 2 4 5 7] False\n",
      "[1 3 2 4 5 6] False\n"
     ]
    }
   ],
   "source": [
    "a = np.array(\n",
    "    [\n",
    "        1,\n",
    "        3,\n",
    "        2,\n",
    "        4,\n",
    "        5,\n",
    "        6,\n",
    "        7,\n",
    "    ]\n",
    ")\n",
    "for i in range(len(a)):\n",
    "    small_a = np.delete(a, i)\n",
    "\n",
    "    print(small_a, is_problem_safe(small_a))"
   ]
  },
  {
   "cell_type": "code",
   "execution_count": 4,
   "metadata": {},
   "outputs": [
    {
     "name": "stdout",
     "output_type": "stream",
     "text": [
      "5 [1, 2, 3, 4]\n",
      "4 [1, 2, 3]\n",
      "3 [1, 2]\n",
      "2 [1]\n",
      "1 []\n"
     ]
    }
   ],
   "source": [
    "page = [1, 2, 3, 4, 5]\n",
    "for i, p in enumerate(page[::-1]):\n",
    "    print(p, page[: len(page) - i - 1])"
   ]
  },
  {
   "cell_type": "code",
   "execution_count": 7,
   "metadata": {},
   "outputs": [
    {
     "data": {
      "text/plain": [
       "[('+', '+', '+', '+'),\n",
       " ('+', '+', '*', '+'),\n",
       " ('+', '+', '+', '*'),\n",
       " ('*', '+', '+', '+'),\n",
       " ('+', '*', '+', '+'),\n",
       " ('+', '*', '+', '*'),\n",
       " ('*', '+', '*', '+'),\n",
       " ('*', '+', '+', '*'),\n",
       " ('+', '+', '*', '*'),\n",
       " ('*', '*', '+', '+'),\n",
       " ('+', '*', '*', '+'),\n",
       " ('*', '*', '+', '*'),\n",
       " ('*', '+', '*', '*'),\n",
       " ('+', '*', '*', '*'),\n",
       " ('*', '*', '*', '+'),\n",
       " ('*', '*', '*', '*')]"
      ]
     },
     "execution_count": 7,
     "metadata": {},
     "output_type": "execute_result"
    }
   ],
   "source": [
    "from itertools import combinations_with_replacement, permutations\n",
    "\n",
    "all_operations = []\n",
    "all_combinations = list(combinations_with_replacement(\"+*\", 4))\n",
    "for c in all_combinations:\n",
    "    all_operations.extend(set(permutations(c)))\n",
    "all_operations"
   ]
  }
 ],
 "metadata": {
  "kernelspec": {
   "display_name": ".venv",
   "language": "python",
   "name": "python3"
  },
  "language_info": {
   "codemirror_mode": {
    "name": "ipython",
    "version": 3
   },
   "file_extension": ".py",
   "mimetype": "text/x-python",
   "name": "python",
   "nbconvert_exporter": "python",
   "pygments_lexer": "ipython3",
   "version": "3.12.7"
  }
 },
 "nbformat": 4,
 "nbformat_minor": 2
}
